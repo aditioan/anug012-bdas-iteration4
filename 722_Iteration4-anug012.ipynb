{
 "cells": [
  {
   "cell_type": "code",
   "execution_count": 1,
   "metadata": {},
   "outputs": [],
   "source": [
    "\"\"\"\n",
    "Created on Sunday Oct 18 13:21:09 2020\n",
    "\n",
    "@author: aditioagungnugroho\n",
    "\"\"\"\n",
    "\n",
    "#Import and create pyspark\n",
    "import findspark\n",
    "findspark.init('/home/ubuntu/spark-2.1.1-bin-hadoop2.7')\n",
    "import pyspark\n",
    "from pyspark.sql import SparkSession\n",
    "spark = SparkSession.builder.appName('722_Iteration4_anug012').getOrCreate()"
   ]
  },
  {
   "cell_type": "code",
   "execution_count": 2,
   "metadata": {},
   "outputs": [],
   "source": [
    "#Load the CSV dataset into dataframe\n",
    "df = spark.read.load(\"./mental-health-in-tech-company-2016.csv\", format=\"csv\", inferSchema = True, header=True)"
   ]
  },
  {
   "cell_type": "code",
   "execution_count": 3,
   "metadata": {},
   "outputs": [
    {
     "name": "stdout",
     "output_type": "stream",
     "text": [
      "root\n",
      " |-- self_employed: string (nullable = true)\n",
      " |-- no_employees: string (nullable = true)\n",
      " |-- tech_company: string (nullable = true)\n",
      " |-- role: string (nullable = true)\n",
      " |-- health_coverage: string (nullable = true)\n",
      " |-- care_options: string (nullable = true)\n",
      " |-- mental_health_discussion: string (nullable = true)\n",
      " |-- seek_help: string (nullable = true)\n",
      " |-- anonymity: string (nullable = true)\n",
      " |-- leave: string (nullable = true)\n",
      " |-- mental_health_consequence: string (nullable = true)\n",
      " |-- phys_health_consequence: string (nullable = true)\n",
      " |-- coworkers: string (nullable = true)\n",
      " |-- supervisor: string (nullable = true)\n",
      " |-- mental_vs_physical: string (nullable = true)\n",
      " |-- obs_consequence: string (nullable = true)\n",
      " |-- medical_coverage: string (nullable = true)\n",
      " |-- resources: string (nullable = true)\n",
      " |-- client_revelation: string (nullable = true)\n",
      " |-- client_revelation_consequence: string (nullable = true)\n",
      " |-- coworkers_revelation: string (nullable = true)\n",
      " |-- coworkers_revelation_consequence: string (nullable = true)\n",
      " |-- productivity: string (nullable = true)\n",
      " |-- productivity_precentage: string (nullable = true)\n",
      " |-- phys_health_interview: string (nullable = true)\n",
      " |-- phys_health_interview_reason: string (nullable = true)\n",
      " |-- mental_health_interview: string (nullable = true)\n",
      " |-- mental_health_interview_reason: string (nullable = true)\n",
      " |-- career: string (nullable = true)\n",
      " |-- coworkers_view: string (nullable = true)\n",
      " |-- share: string (nullable = true)\n",
      " |-- obs_mental_discussion: string (nullable = true)\n",
      " |-- family_history: string (nullable = true)\n",
      " |-- self_history: string (nullable = true)\n",
      " |-- current_condition: string (nullable = true)\n",
      " |-- condition_type: string (nullable = true)\n",
      " |-- condition_guess: string (nullable = true)\n",
      " |-- diagnosed: string (nullable = true)\n",
      " |-- diagnosed_type: string (nullable = true)\n",
      " |-- treatment: string (nullable = true)\n",
      " |-- work_interfere: string (nullable = true)\n",
      " |-- success_treatment: string (nullable = true)\n",
      " |-- failed_treatment: string (nullable = true)\n",
      " |-- age: string (nullable = true)\n",
      " |-- gender: string (nullable = true)\n",
      " |-- country: string (nullable = true)\n",
      " |-- state: string (nullable = true)\n",
      " |-- work_country: string (nullable = true)\n",
      " |-- work_state: string (nullable = true)\n",
      " |-- position: string (nullable = true)\n",
      " |-- remote_work: string (nullable = true)\n",
      "\n",
      "1456 51\n"
     ]
    }
   ],
   "source": [
    "#2.2 Data Description\n",
    "df.printSchema()\n",
    "print(df.count(), len(df.columns))"
   ]
  },
  {
   "cell_type": "code",
   "execution_count": 4,
   "metadata": {},
   "outputs": [
    {
     "name": "stdout",
     "output_type": "stream",
     "text": [
      "+-------------+------------+------------+----+---------------+------------+------------------------+---------+---------+-----+-------------------------+-----------------------+---------+----------+------------------+---------------+----------------+---------+-----------------+-----------------------------+--------------------+--------------------------------+------------+-----------------------+---------------------+----------------------------+-----------------------+------------------------------+------+--------------+-----+---------------------+--------------+------------+-----------------+--------------+---------------+---------+--------------+---------+--------------+-----------------+----------------+---+------+-------+-----+------------+----------+--------+-----------+\n",
      "|self_employed|no_employees|tech_company|role|health_coverage|care_options|mental_health_discussion|seek_help|anonymity|leave|mental_health_consequence|phys_health_consequence|coworkers|supervisor|mental_vs_physical|obs_consequence|medical_coverage|resources|client_revelation|client_revelation_consequence|coworkers_revelation|coworkers_revelation_consequence|productivity|productivity_precentage|phys_health_interview|phys_health_interview_reason|mental_health_interview|mental_health_interview_reason|career|coworkers_view|share|obs_mental_discussion|family_history|self_history|current_condition|condition_type|condition_guess|diagnosed|diagnosed_type|treatment|work_interfere|success_treatment|failed_treatment|age|gender|country|state|work_country|work_state|position|remote_work|\n",
      "+-------------+------------+------------+----+---------------+------------+------------------------+---------+---------+-----+-------------------------+-----------------------+---------+----------+------------------+---------------+----------------+---------+-----------------+-----------------------------+--------------------+--------------------------------+------------+-----------------------+---------------------+----------------------------+-----------------------+------------------------------+------+--------------+-----+---------------------+--------------+------------+-----------------+--------------+---------------+---------+--------------+---------+--------------+-----------------+----------------+---+------+-------+-----+------------+----------+--------+-----------+\n",
      "|            0|         291|         292|1176|            295|         297|                     297|      294|      297|  299|                      300|                    301|      297|       298|               294|            295|            1152|     1152|             1152|                         1156|                1154|                            1157|        1154|                   1238|                   12|                         354|                     30|                           336|    41|            41|   41|                  686|            45|          42|               42|           892|           1126|       52|           754|       49|            41|               42|              41| 41|    41|     41|  622|          43|       612|      43|         42|\n",
      "+-------------+------------+------------+----+---------------+------------+------------------------+---------+---------+-----+-------------------------+-----------------------+---------+----------+------------------+---------------+----------------+---------+-----------------+-----------------------------+--------------------+--------------------------------+------------+-----------------------+---------------------+----------------------------+-----------------------+------------------------------+------+--------------+-----+---------------------+--------------+------------+-----------------+--------------+---------------+---------+--------------+---------+--------------+-----------------+----------------+---+------+-------+-----+------------+----------+--------+-----------+\n",
      "\n"
     ]
    }
   ],
   "source": [
    "#2.4.1 Missing Data\n",
    "#Count the null values and missing data\n",
    "from pyspark.sql.functions import isnan, when, count, col\n",
    "df.select([count(when(isnan(c) | col(c).isNull(), c)).alias(c) for c in df.columns]).show()"
   ]
  },
  {
   "cell_type": "code",
   "execution_count": 5,
   "metadata": {},
   "outputs": [
    {
     "name": "stdout",
     "output_type": "stream",
     "text": [
      "self_employed \t with null values:  0\n",
      "no_employees \t with null values:  291\n",
      "tech_company \t with null values:  292\n",
      "role \t with null values:  1176\n",
      "health_coverage \t with null values:  295\n",
      "care_options \t with null values:  297\n",
      "mental_health_discussion \t with null values:  297\n",
      "seek_help \t with null values:  294\n",
      "anonymity \t with null values:  297\n",
      "leave \t with null values:  299\n",
      "mental_health_consequence \t with null values:  300\n",
      "phys_health_consequence \t with null values:  301\n",
      "coworkers \t with null values:  297\n",
      "supervisor \t with null values:  298\n",
      "mental_vs_physical \t with null values:  294\n",
      "obs_consequence \t with null values:  295\n",
      "medical_coverage \t with null values:  1152\n",
      "resources \t with null values:  1152\n",
      "client_revelation \t with null values:  1152\n",
      "client_revelation_consequence \t with null values:  1156\n",
      "coworkers_revelation \t with null values:  1154\n",
      "coworkers_revelation_consequence \t with null values:  1157\n",
      "productivity \t with null values:  1154\n",
      "productivity_precentage \t with null values:  1238\n",
      "phys_health_interview \t with null values:  12\n",
      "phys_health_interview_reason \t with null values:  354\n",
      "mental_health_interview \t with null values:  30\n",
      "mental_health_interview_reason \t with null values:  336\n",
      "career \t with null values:  41\n",
      "coworkers_view \t with null values:  41\n",
      "share \t with null values:  41\n",
      "obs_mental_discussion \t with null values:  686\n",
      "family_history \t with null values:  45\n",
      "self_history \t with null values:  42\n",
      "current_condition \t with null values:  42\n",
      "condition_type \t with null values:  892\n",
      "condition_guess \t with null values:  1126\n",
      "diagnosed \t with null values:  52\n",
      "diagnosed_type \t with null values:  754\n",
      "treatment \t with null values:  49\n",
      "work_interfere \t with null values:  41\n",
      "success_treatment \t with null values:  42\n",
      "failed_treatment \t with null values:  41\n",
      "age \t with null values:  41\n",
      "gender \t with null values:  41\n",
      "country \t with null values:  41\n",
      "state \t with null values:  622\n",
      "work_country \t with null values:  43\n",
      "work_state \t with null values:  612\n",
      "position \t with null values:  43\n",
      "remote_work \t with null values:  42\n"
     ]
    }
   ],
   "source": [
    "#2.4.1 Missing Data\n",
    "#Count the null values and missing data\n",
    "\n",
    "from pyspark.sql.functions import col\n",
    "for col in df.columns:\n",
    "    print(col, \"\\t\", \"with null values: \", df.filter(df[col].isNull()).count())"
   ]
  },
  {
   "cell_type": "code",
   "execution_count": 6,
   "metadata": {},
   "outputs": [
    {
     "name": "stdout",
     "output_type": "stream",
     "text": [
      "+----------------------------+\n",
      "|phys_health_interview_reason|\n",
      "+----------------------------+\n",
      "|                         xxx|\n",
      "|        would only bring ...|\n",
      "|        would be afraid n...|\n",
      "|        what if it was th...|\n",
      "|        unless it's visib...|\n",
      "|        unless it would d...|\n",
      "|        unless it directl...|\n",
      "|         to get accomodation|\n",
      "|        they would hold i...|\n",
      "|        they might think ...|\n",
      "|        they might think ...|\n",
      "|        there's no stigma...|\n",
      "|        there's no stigma...|\n",
      "|        the world isn't a...|\n",
      "|        simply because it...|\n",
      "|                 seems wrong|\n",
      "|        physical health i...|\n",
      "|        physical health i...|\n",
      "|        physical health i...|\n",
      "|        personal info sho...|\n",
      "+----------------------------+\n",
      "only showing top 20 rows\n",
      "\n"
     ]
    }
   ],
   "source": [
    "#Error Value\n",
    "#Creat temporary view of the DataFrame\n",
    "df.createOrReplaceTempView('mental_health')\n",
    "#Search for unique value of phys_health_interview_reason\n",
    "interviewReasonResults = spark.sql(\"SELECT DISTINCT phys_health_interview_reason FROM mental_health ORDER BY phys_health_interview_reason DESC\")\n",
    "interviewReasonResults.show()"
   ]
  },
  {
   "cell_type": "code",
   "execution_count": 7,
   "metadata": {},
   "outputs": [
    {
     "name": "stdout",
     "output_type": "stream",
     "text": [
      "+--------------------+\n",
      "|        no_employees|\n",
      "+--------------------+\n",
      "|    mobility issues)|\n",
      "| plenty of other ...|\n",
      "| and as such one ...|\n",
      "|                null|\n",
      "|             100-500|\n",
      "| I try to judge w...|\n",
      "|              Jun-25|\n",
      "|   I think it would\"|\n",
      "|               Maybe|\n",
      "|Yes, I think it w...|\n",
      "| he was a \"\"maste...|\n",
      "|             sisters|\n",
      "| and they don't k...|\n",
      "|                  No|\n",
      "|            500-1000|\n",
      "| in which case I ...|\n",
      "| and had people i...|\n",
      "|               1-May|\n",
      "|      More than 1000|\n",
      "| I don't think it...|\n",
      "+--------------------+\n",
      "only showing top 20 rows\n",
      "\n"
     ]
    }
   ],
   "source": [
    "#Measurement Error\n",
    "#Search for unique value of no_employees\n",
    "noEmployeesResults = spark.sql(\"SELECT DISTINCT no_employees FROM mental_health\")\n",
    "noEmployeesResults.show()"
   ]
  },
  {
   "cell_type": "code",
   "execution_count": 8,
   "metadata": {},
   "outputs": [
    {
     "name": "stdout",
     "output_type": "stream",
     "text": [
      "+--------------------+\n",
      "|              gender|\n",
      "+--------------------+\n",
      "|                AFAB|\n",
      "|Female assigned a...|\n",
      "|                  fm|\n",
      "|          non-binary|\n",
      "|                   F|\n",
      "|                  34|\n",
      "|         Genderqueer|\n",
      "|                 mtf|\n",
      "|female-bodied; no...|\n",
      "|                  28|\n",
      "|                 man|\n",
      "|           Sometimes|\n",
      "|                 Man|\n",
      "|                  35|\n",
      "|            Cis male|\n",
      "|         genderqueer|\n",
      "|                   m|\n",
      "|             Female |\n",
      "|I'm a man why did...|\n",
      "|Female (props for...|\n",
      "+--------------------+\n",
      "only showing top 20 rows\n",
      "\n"
     ]
    }
   ],
   "source": [
    "#Coding Inconsistencies\n",
    "#Search for unique value of gender\n",
    "genderResults = spark.sql(\"SELECT DISTINCT gender FROM mental_health\")\n",
    "genderResults.show()"
   ]
  },
  {
   "cell_type": "code",
   "execution_count": 9,
   "metadata": {},
   "outputs": [
    {
     "data": {
      "text/plain": [
       "['self_employed',\n",
       " 'no_employees',\n",
       " 'tech_company',\n",
       " 'role',\n",
       " 'health_coverage',\n",
       " 'care_options',\n",
       " 'mental_health_discussion',\n",
       " 'anonymity',\n",
       " 'leave',\n",
       " 'mental_health_consequence',\n",
       " 'coworkers',\n",
       " 'supervisor',\n",
       " 'mental_vs_physical',\n",
       " 'medical_coverage',\n",
       " 'resources',\n",
       " 'client_revelation',\n",
       " 'client_revelation_consequence',\n",
       " 'coworkers_revelation',\n",
       " 'coworkers_revelation_consequence',\n",
       " 'productivity',\n",
       " 'productivity_precentage',\n",
       " 'coworkers_view',\n",
       " 'share',\n",
       " 'family_history',\n",
       " 'self_history',\n",
       " 'current_condition',\n",
       " 'condition_type',\n",
       " 'condition_guess',\n",
       " 'diagnosed',\n",
       " 'diagnosed_type',\n",
       " 'treatment',\n",
       " 'work_interfere',\n",
       " 'success_treatment',\n",
       " 'failed_treatment',\n",
       " 'age',\n",
       " 'gender',\n",
       " 'country',\n",
       " 'state',\n",
       " 'work_country',\n",
       " 'work_state',\n",
       " 'position',\n",
       " 'remote_work']"
      ]
     },
     "execution_count": 9,
     "metadata": {},
     "output_type": "execute_result"
    }
   ],
   "source": [
    "\"\"\"\n",
    "3. Data Preparation\n",
    "3.1 Data Selection\n",
    "\"\"\"\n",
    "\n",
    "df_selection = df.drop(*[\"phys_health_interview\", \"phys_health_interview_reason\", \n",
    "                                        \"mental_health_interview\", \"mental_health_interview_reason\",\n",
    "                                        \"career\", \"seek_help\", \"phys_health_consequence\",\n",
    "                                        \"obs_consequence\", \"obs_mental_discussion\"])\n",
    "df_selection.columns"
   ]
  },
  {
   "cell_type": "code",
   "execution_count": 10,
   "metadata": {},
   "outputs": [
    {
     "data": {
      "text/plain": [
       "['self_employed',\n",
       " 'no_employees',\n",
       " 'tech_company',\n",
       " 'role',\n",
       " 'health_coverage',\n",
       " 'mental_health_discussion',\n",
       " 'leave',\n",
       " 'mental_health_consequence',\n",
       " 'coworkers',\n",
       " 'supervisor',\n",
       " 'medical_coverage',\n",
       " 'resources',\n",
       " 'client_revelation',\n",
       " 'client_revelation_consequence',\n",
       " 'coworkers_revelation',\n",
       " 'coworkers_revelation_consequence',\n",
       " 'productivity',\n",
       " 'productivity_precentage',\n",
       " 'coworkers_view',\n",
       " 'share',\n",
       " 'family_history',\n",
       " 'self_history',\n",
       " 'current_condition',\n",
       " 'condition_type',\n",
       " 'condition_guess',\n",
       " 'diagnosed',\n",
       " 'diagnosed_type',\n",
       " 'treatment',\n",
       " 'work_interfere',\n",
       " 'success_treatment',\n",
       " 'failed_treatment',\n",
       " 'age',\n",
       " 'gender',\n",
       " 'country',\n",
       " 'state',\n",
       " 'work_country',\n",
       " 'work_state',\n",
       " 'position',\n",
       " 'remote_work']"
      ]
     },
     "execution_count": 10,
     "metadata": {},
     "output_type": "execute_result"
    }
   ],
   "source": [
    "#3.1 Data Selection (cont.)\n",
    "\n",
    "df_selection2 = df_selection.drop(*['anonymity', 'care_options', 'mental_vs_physical'])\n",
    "df_selection2.columns"
   ]
  },
  {
   "cell_type": "code",
   "execution_count": 11,
   "metadata": {},
   "outputs": [
    {
     "data": {
      "text/plain": [
       "['self_employed',\n",
       " 'no_employees',\n",
       " 'tech_company',\n",
       " 'health_coverage',\n",
       " 'mental_health_discussion',\n",
       " 'leave',\n",
       " 'mental_health_consequence',\n",
       " 'coworkers',\n",
       " 'supervisor',\n",
       " 'coworkers_view',\n",
       " 'share',\n",
       " 'family_history',\n",
       " 'self_history',\n",
       " 'current_condition',\n",
       " 'diagnosed',\n",
       " 'treatment',\n",
       " 'work_interfere',\n",
       " 'success_treatment',\n",
       " 'failed_treatment',\n",
       " 'age',\n",
       " 'gender',\n",
       " 'position',\n",
       " 'remote_work']"
      ]
     },
     "execution_count": 11,
     "metadata": {},
     "output_type": "execute_result"
    }
   ],
   "source": [
    "#3.1 Data Selection (cont.)\n",
    "\n",
    "df_selection3 = df_selection2.drop(*['role', 'medical_coverage', 'resources', 'client_revelation', \n",
    "                                              'client_revelation_consequence', 'coworkers_revelation', \n",
    "                                              'coworkers_revelation_consequence', 'productivity', \n",
    "                                              'productivity_precentage', 'condition_guess', 'condition_type', \n",
    "                                              'diagnosed_type', 'state', 'work_state', 'work_country', 'country'])\n",
    "df_selection3.columns"
   ]
  },
  {
   "cell_type": "code",
   "execution_count": 12,
   "metadata": {},
   "outputs": [
    {
     "name": "stdout",
     "output_type": "stream",
     "text": [
      "self_employed \t with null values:  0\n",
      "no_employees \t with null values:  291\n",
      "tech_company \t with null values:  292\n",
      "health_coverage \t with null values:  295\n",
      "mental_health_discussion \t with null values:  297\n",
      "leave \t with null values:  299\n",
      "mental_health_consequence \t with null values:  300\n",
      "coworkers \t with null values:  297\n",
      "supervisor \t with null values:  298\n",
      "coworkers_view \t with null values:  41\n",
      "share \t with null values:  41\n",
      "family_history \t with null values:  45\n",
      "self_history \t with null values:  42\n",
      "current_condition \t with null values:  42\n",
      "diagnosed \t with null values:  52\n",
      "treatment \t with null values:  49\n",
      "work_interfere \t with null values:  41\n",
      "success_treatment \t with null values:  42\n",
      "failed_treatment \t with null values:  41\n",
      "age \t with null values:  41\n",
      "gender \t with null values:  41\n",
      "position \t with null values:  43\n",
      "remote_work \t with null values:  42\n"
     ]
    }
   ],
   "source": [
    "#Count the null values and missing data\n",
    "for col in df_selection3.columns:\n",
    "    print(col, \"\\t\", \"with null values: \", df_selection3.filter(df_selection3[col].isNull()).count())"
   ]
  },
  {
   "cell_type": "code",
   "execution_count": 13,
   "metadata": {},
   "outputs": [
    {
     "name": "stdout",
     "output_type": "stream",
     "text": [
      "+-------+-------------+------------+------------+---------------+------------------------+-----+-------------------------+---------+----------+--------------+-----+--------------+------------+-----------------+---------+---------+--------------+-----------------+----------------+----+------+--------+-----------+\n",
      "|summary|self_employed|no_employees|tech_company|health_coverage|mental_health_discussion|leave|mental_health_consequence|coworkers|supervisor|coworkers_view|share|family_history|self_history|current_condition|diagnosed|treatment|work_interfere|success_treatment|failed_treatment| age|gender|position|remote_work|\n",
      "+-------+-------------+------------+------------+---------------+------------------------+-----+-------------------------+---------+----------+--------------+-----+--------------+------------+-----------------+---------+---------+--------------+-----------------+----------------+----+------+--------+-----------+\n",
      "|  count|         1118|        1118|        1118|           1118|                    1118| 1118|                     1118|     1118|      1118|          1118| 1118|          1118|        1118|             1118|     1118|     1118|          1118|             1118|            1118|1118|  1118|    1118|       1118|\n",
      "+-------+-------------+------------+------------+---------------+------------------------+-----+-------------------------+---------+----------+--------------+-----+--------------+------------+-----------------+---------+---------+--------------+-----------------+----------------+----+------+--------+-----------+\n",
      "\n",
      "self_employed \t with null values:  0\n",
      "no_employees \t with null values:  0\n",
      "tech_company \t with null values:  0\n",
      "health_coverage \t with null values:  0\n",
      "mental_health_discussion \t with null values:  0\n",
      "leave \t with null values:  0\n",
      "mental_health_consequence \t with null values:  0\n",
      "coworkers \t with null values:  0\n",
      "supervisor \t with null values:  0\n",
      "coworkers_view \t with null values:  0\n",
      "share \t with null values:  0\n",
      "family_history \t with null values:  0\n",
      "self_history \t with null values:  0\n",
      "current_condition \t with null values:  0\n",
      "diagnosed \t with null values:  0\n",
      "treatment \t with null values:  0\n",
      "work_interfere \t with null values:  0\n",
      "success_treatment \t with null values:  0\n",
      "failed_treatment \t with null values:  0\n",
      "age \t with null values:  0\n",
      "gender \t with null values:  0\n",
      "position \t with null values:  0\n",
      "remote_work \t with null values:  0\n"
     ]
    }
   ],
   "source": [
    "\"\"\"\n",
    "3.2 Data Cleaning\n",
    "3.2.1 Remove Missing Values\n",
    "\"\"\"\n",
    "#Remove null values\n",
    "df_cleaning = df_selection3.na.drop()\n",
    "\n",
    "#Show current values count\n",
    "from pyspark.sql.functions import isnan, when, count, col\n",
    "df_cleaning.describe().filter(col(\"summary\") == \"count\").show()\n",
    "\n",
    "#Count the null values and missing data\n",
    "for col in df_cleaning.columns:\n",
    "    print(col, \"\\t\", \"with null values: \", df_cleaning.filter(df_cleaning[col].isNull()).count())"
   ]
  },
  {
   "cell_type": "code",
   "execution_count": 14,
   "metadata": {},
   "outputs": [
    {
     "name": "stdout",
     "output_type": "stream",
     "text": [
      "+-------------------------------------------------------+\n",
      "|gender                                                 |\n",
      "+-------------------------------------------------------+\n",
      "|Female assigned at birth                               |\n",
      "|fm                                                     |\n",
      "|non-binary                                             |\n",
      "|F                                                      |\n",
      "|Genderqueer                                            |\n",
      "|female-bodied; no feelings about gender                |\n",
      "|28                                                     |\n",
      "|man                                                    |\n",
      "|Man                                                    |\n",
      "|Cis male                                               |\n",
      "|genderqueer                                            |\n",
      "|m                                                      |\n",
      "|Female                                                 |\n",
      "|Female (props for making this a freeform field, though)|\n",
      "|Agender                                                |\n",
      "|Male (cis)                                             |\n",
      "|Dude                                                   |\n",
      "|f                                                      |\n",
      "|Other/Transfeminine                                    |\n",
      "|woman                                                  |\n",
      "|female/woman                                           |\n",
      "|Female                                                 |\n",
      "|Cis female                                             |\n",
      "|female                                                 |\n",
      "|M                                                      |\n",
      "|Male/genderqueer                                       |\n",
      "|cisdude                                                |\n",
      "|Other                                                  |\n",
      "|cis man                                                |\n",
      "|male                                                   |\n",
      "|nb masculine                                           |\n",
      "|mail                                                   |\n",
      "|fem                                                    |\n",
      "|Transgender woman                                      |\n",
      "|cis male                                               |\n",
      "|male 9:1 female, roughly                               |\n",
      "|Woman                                                  |\n",
      "|I identify as female.                                  |\n",
      "|N/A                                                    |\n",
      "|Bigender                                               |\n",
      "|male                                                   |\n",
      "|Enby                                                   |\n",
      "|Nonbinary                                              |\n",
      "|Male                                                   |\n",
      "|Cis-woman                                              |\n",
      "|Female or Multi-Gender Femme                           |\n",
      "|Genderfluid (born female)                              |\n",
      "|Queer                                                  |\n",
      "|Androgynous                                            |\n",
      "|Cis Male                                               |\n",
      "|Male.                                                  |\n",
      "|Male (trans, FtM)                                      |\n",
      "|Transitioned, M2F                                      |\n",
      "|Sex is male                                            |\n",
      "|Genderfluid                                            |\n",
      "|female                                                 |\n",
      "|Male                                                   |\n",
      "| Female                                                |\n",
      "|Cisgender Female                                       |\n",
      "+-------------------------------------------------------+\n",
      "\n"
     ]
    }
   ],
   "source": [
    "\"\"\"\n",
    "3.2.2 Data Errors and Code Inconsistencies Correction\n",
    "\"\"\"\n",
    "\n",
    "#Gender data correction\n",
    "df_cleaning.select('gender').distinct().show(100, False)"
   ]
  },
  {
   "cell_type": "code",
   "execution_count": 15,
   "metadata": {},
   "outputs": [
    {
     "name": "stdout",
     "output_type": "stream",
     "text": [
      "+------+\n",
      "|gender|\n",
      "+------+\n",
      "|female|\n",
      "| other|\n",
      "|  male|\n",
      "+------+\n",
      "\n"
     ]
    }
   ],
   "source": [
    "#Gender data correction (cont.)\n",
    "from pyspark.sql.functions import col, udf\n",
    "import pyspark.sql.functions as f \n",
    "\n",
    "female = ['f', 'F', 'fem', 'Female', 'Cis female', 'Cis-woman', 'Cisgender Female', 'female ', 'Female ',\n",
    "          'Female (props for making this a freeform field, though)', 'Female assigned at birth ',\n",
    "          'Female or Multi-Gender Femme', 'female-bodied; no feelings about gender', 'female/woman',\n",
    "          'fm', 'I identify as female.', ' Female', 'genderqueer woman', 'Woman', 'woman', 'Cis female ']\n",
    "male = ['cis male', 'Cis male', 'cis man', 'cisdude', 'Dude', 'm', 'M', 'M|', 'mail', 'Male', 'MALE',\n",
    "        'Male (cis)', 'Male (trans, FtM)', 'male 9:1 female, roughly', 'Male.', 'Male/genderqueer', 'Male ',\n",
    "        'male ', 'Cis Male', 'Malr', 'man', 'Man', 'Sex is male', \n",
    "        \"I'm a man why didn't you make this a drop down question. You should of asked sex? And I would of answered yes please. Seriously how much text can this take? \"]\n",
    "other = ['Bigender', 'non-binary', 'Transitioned, M2F', 'Genderfluid (born female)', 'Other/Transfeminine',\n",
    "          'Androgynous', 'Other', 'nb masculine', 'none of your business', 'genderqueer', 'Human', 'Genderfluid',\n",
    "          'Enby', 'Queer', 'Agender', 'Nonbinary', 'Genderqueer', 'Genderflux demi-girl', 'Transgender woman', '28', 'N/A']\n",
    "\n",
    "df_correction = df_cleaning.withColumn('gender',f.when(f.col('gender').isin(male),f.lit('male')).\\\n",
    "when(f.col('gender').isin(other),f.lit('other')).\\\n",
    "when(f.col('gender').isin(female),f.lit('female')).\\\n",
    "otherwise(f.col('gender')))\n",
    "df_correction = df_correction.where(\"age!='Sometimes'\")\n",
    "\n",
    "df_correction.select('gender').distinct().show()"
   ]
  },
  {
   "cell_type": "code",
   "execution_count": 16,
   "metadata": {},
   "outputs": [
    {
     "name": "stdout",
     "output_type": "stream",
     "text": [
      "+---+\n",
      "|age|\n",
      "+---+\n",
      "| 51|\n",
      "| 54|\n",
      "|323|\n",
      "| 29|\n",
      "| 42|\n",
      "|  3|\n",
      "| 30|\n",
      "| 34|\n",
      "| 59|\n",
      "| 28|\n",
      "| 22|\n",
      "| 35|\n",
      "| 52|\n",
      "| 47|\n",
      "| 99|\n",
      "| 43|\n",
      "| 31|\n",
      "| 70|\n",
      "| 27|\n",
      "| 61|\n",
      "+---+\n",
      "only showing top 20 rows\n",
      "\n",
      "+-------+------------------+\n",
      "|summary|               age|\n",
      "+-------+------------------+\n",
      "|  count|              1117|\n",
      "|   mean|33.754700089525514|\n",
      "| stddev|11.797681710809933|\n",
      "|    min|                17|\n",
      "|    max|                99|\n",
      "+-------+------------------+\n",
      "\n"
     ]
    }
   ],
   "source": [
    "#Describe the age column\n",
    "df_correction.select('age').distinct().show()\n",
    "df_correction.select('age').describe().show()"
   ]
  },
  {
   "cell_type": "code",
   "execution_count": 17,
   "metadata": {},
   "outputs": [
    {
     "name": "stdout",
     "output_type": "stream",
     "text": [
      "+-------+------------------+\n",
      "|summary|               age|\n",
      "+-------+------------------+\n",
      "|  count|              1111|\n",
      "|   mean| 33.36543654365437|\n",
      "| stddev|7.4931580060647685|\n",
      "|    min|                17|\n",
      "|    max|                63|\n",
      "+-------+------------------+\n",
      "\n"
     ]
    }
   ],
   "source": [
    "#Age data correction\n",
    "import pyspark.sql.functions as f\n",
    "\n",
    "df_correction2 = df_correction.withColumn(\n",
    "  \"age\",\n",
    "  f.when(\n",
    "    (f.col(\"age\") >= 13) & \n",
    "    (f.col(\"age\") <= 65), f.col(\"age\")).otherwise(f.lit(None))\n",
    ")\n",
    "\n",
    "#Drop the null value\n",
    "df_correction2 = df_correction2.dropna()\n",
    "\n",
    "df_correction2.describe([ \"age\" ]).show()"
   ]
  },
  {
   "cell_type": "code",
   "execution_count": 18,
   "metadata": {},
   "outputs": [
    {
     "name": "stdout",
     "output_type": "stream",
     "text": [
      "+------------+\n",
      "|no_employees|\n",
      "+------------+\n",
      "|       >1000|\n",
      "|     100-500|\n",
      "|    500-1000|\n",
      "|      26-100|\n",
      "|         1-5|\n",
      "|        6-25|\n",
      "+------------+\n",
      "\n"
     ]
    }
   ],
   "source": [
    "'''\n",
    "3.2.3 Measurement Errors Correction\n",
    "'''\n",
    "#Employees data correction\n",
    "df_correction3 = df_correction2.withColumn(\n",
    "    \"no_employees\",\n",
    "    f.when(\n",
    "        f.col(\"no_employees\") == \"Jun-25\", f.lit(\"6-25\")).\\\n",
    "    when(\n",
    "        f.col(\"no_employees\") == \"1-May\", f.lit(\"1-5\")).\\\n",
    "    when(\n",
    "        f.col(\"no_employees\") == \"More than 1000\", f.lit(\">1000\")).otherwise(f.col(\"no_employees\"))\n",
    ")\n",
    "df_correction3.select(\"no_employees\").distinct().show()"
   ]
  },
  {
   "cell_type": "code",
   "execution_count": 19,
   "metadata": {},
   "outputs": [
    {
     "data": {
      "text/plain": [
       "['self_employed',\n",
       " 'no_employees',\n",
       " 'tech_company',\n",
       " 'health_coverage',\n",
       " 'mental_health_discussion',\n",
       " 'leave',\n",
       " 'mental_health_consequence',\n",
       " 'coworkers',\n",
       " 'supervisor',\n",
       " 'coworkers_view',\n",
       " 'share',\n",
       " 'family_history',\n",
       " 'self_history',\n",
       " 'current_condition',\n",
       " 'diagnosed',\n",
       " 'treatment',\n",
       " 'work_interfere',\n",
       " 'success_treatment',\n",
       " 'failed_treatment',\n",
       " 'age',\n",
       " 'gender',\n",
       " 'position',\n",
       " 'remote_work']"
      ]
     },
     "execution_count": 19,
     "metadata": {},
     "output_type": "execute_result"
    }
   ],
   "source": [
    "df_correction3.columns"
   ]
  },
  {
   "cell_type": "code",
   "execution_count": 20,
   "metadata": {},
   "outputs": [
    {
     "name": "stdout",
     "output_type": "stream",
     "text": [
      "+--------+\n",
      "|position|\n",
      "+--------+\n",
      "|       0|\n",
      "|       0|\n",
      "|       0|\n",
      "|       1|\n",
      "|       0|\n",
      "|       0|\n",
      "|       0|\n",
      "|       0|\n",
      "|       0|\n",
      "|       0|\n",
      "|       1|\n",
      "|       0|\n",
      "|       0|\n",
      "|       0|\n",
      "|       0|\n",
      "|       0|\n",
      "|       0|\n",
      "|       0|\n",
      "|       0|\n",
      "|       0|\n",
      "+--------+\n",
      "only showing top 20 rows\n",
      "\n"
     ]
    }
   ],
   "source": [
    "'''\n",
    "3.3 Data Construction\n",
    "'''\n",
    "#Format position data\n",
    "df_construction = df_correction3.withColumn(\n",
    "    \"position\",\n",
    "    f.when(\n",
    "        f.col(\"position\") == \"Supervisor\", f.lit(1)).otherwise(0)\n",
    ")\n",
    "df_construction.select(\"position\").show()"
   ]
  },
  {
   "cell_type": "code",
   "execution_count": 21,
   "metadata": {},
   "outputs": [
    {
     "name": "stdout",
     "output_type": "stream",
     "text": [
      "+---------+\n",
      "|diagnosed|\n",
      "+---------+\n",
      "|        1|\n",
      "|        1|\n",
      "|        0|\n",
      "|        1|\n",
      "|        0|\n",
      "|        0|\n",
      "|        1|\n",
      "|        1|\n",
      "|        1|\n",
      "|        1|\n",
      "|        1|\n",
      "|        0|\n",
      "|        1|\n",
      "|        1|\n",
      "|        1|\n",
      "|        0|\n",
      "|        1|\n",
      "|        0|\n",
      "|        0|\n",
      "|        0|\n",
      "+---------+\n",
      "only showing top 20 rows\n",
      "\n"
     ]
    }
   ],
   "source": [
    "#Format diagnosed data\n",
    "df_construction = df_construction.withColumn(\n",
    "    \"diagnosed\",\n",
    "    f.when(\n",
    "        f.col(\"diagnosed\") == \"Yes\", f.lit(1)).otherwise(0)\n",
    ")\n",
    "df_construction.select(\"diagnosed\").show()"
   ]
  },
  {
   "cell_type": "code",
   "execution_count": 22,
   "metadata": {},
   "outputs": [
    {
     "name": "stdout",
     "output_type": "stream",
     "text": [
      "+------------------------+\n",
      "|mental_health_discussion|\n",
      "+------------------------+\n",
      "|                       1|\n",
      "|                       2|\n",
      "|                       0|\n",
      "+------------------------+\n",
      "\n",
      "+-------------------------+\n",
      "|mental_health_consequence|\n",
      "+-------------------------+\n",
      "|                        1|\n",
      "|                        2|\n",
      "|                        0|\n",
      "+-------------------------+\n",
      "\n"
     ]
    }
   ],
   "source": [
    "#Format mental health discussion data\n",
    "df_construction = df_construction.withColumn(\n",
    "    \"mental_health_discussion\",\n",
    "    f.when(\n",
    "        f.col(\"mental_health_discussion\") == \"No\", f.lit(0)).\\\n",
    "    when(\n",
    "        f.col(\"mental_health_discussion\") == \"Yes\", f.lit(1)).\\\n",
    "    when(\n",
    "        f.col(\"mental_health_discussion\") == \"I don't know\", f.lit(2)).otherwise(3)\n",
    ")\n",
    "df_construction.select(\"mental_health_discussion\").distinct().show()\n",
    "\n",
    "#Format mental health consequences data\n",
    "df_construction = df_construction.withColumn(\n",
    "    \"mental_health_consequence\",\n",
    "    f.when(\n",
    "        f.col(\"mental_health_consequence\") == \"No\", f.lit(0)).\\\n",
    "    when(\n",
    "        f.col(\"mental_health_consequence\") == \"Yes\", f.lit(1)).\\\n",
    "    when(\n",
    "        f.col(\"mental_health_consequence\") == \"Maybe\", f.lit(2)).otherwise(3)\n",
    ")\n",
    "df_construction.select(\"mental_health_consequence\").distinct().show()"
   ]
  },
  {
   "cell_type": "code",
   "execution_count": 23,
   "metadata": {},
   "outputs": [
    {
     "name": "stdout",
     "output_type": "stream",
     "text": [
      "+---------+\n",
      "|coworkers|\n",
      "+---------+\n",
      "|        1|\n",
      "|        2|\n",
      "|        0|\n",
      "+---------+\n",
      "\n",
      "+----------+\n",
      "|supervisor|\n",
      "+----------+\n",
      "|         1|\n",
      "|         2|\n",
      "|         0|\n",
      "+----------+\n",
      "\n"
     ]
    }
   ],
   "source": [
    "#Format coworkers data\n",
    "df_construction = df_construction.withColumn(\n",
    "    \"coworkers\",\n",
    "    f.when(\n",
    "        f.col(\"coworkers\") == \"No\", f.lit(0)).\\\n",
    "    when(\n",
    "        f.col(\"coworkers\") == \"Yes\", f.lit(1)).\\\n",
    "    when(\n",
    "        f.col(\"coworkers\") == \"Maybe\", f.lit(2)).otherwise(3)\n",
    ")\n",
    "df_construction.select(\"coworkers\").distinct().show()\n",
    "\n",
    "#Format supervisor data\n",
    "df_construction = df_construction.withColumn(\n",
    "    \"supervisor\",\n",
    "    f.when(\n",
    "        f.col(\"supervisor\") == \"No\", f.lit(0)).\\\n",
    "    when(\n",
    "        f.col(\"supervisor\") == \"Yes\", f.lit(1)).\\\n",
    "    when(\n",
    "        f.col(\"supervisor\") == \"Maybe\", f.lit(2)).otherwise(3)\n",
    ")\n",
    "df_construction.select(\"supervisor\").distinct().show()"
   ]
  },
  {
   "cell_type": "code",
   "execution_count": 24,
   "metadata": {},
   "outputs": [
    {
     "name": "stdout",
     "output_type": "stream",
     "text": [
      "+--------------+\n",
      "|family_history|\n",
      "+--------------+\n",
      "|             1|\n",
      "|             2|\n",
      "|             0|\n",
      "+--------------+\n",
      "\n",
      "+------------+\n",
      "|self_history|\n",
      "+------------+\n",
      "|           1|\n",
      "|           2|\n",
      "|           0|\n",
      "+------------+\n",
      "\n",
      "+-----------------+\n",
      "|current_condition|\n",
      "+-----------------+\n",
      "|                1|\n",
      "|                2|\n",
      "|                0|\n",
      "+-----------------+\n",
      "\n"
     ]
    }
   ],
   "source": [
    "#Format family history data\n",
    "df_construction = df_construction.withColumn(\n",
    "    \"family_history\",\n",
    "    f.when(\n",
    "        f.col(\"family_history\") == \"No\", f.lit(0)).\\\n",
    "    when(\n",
    "        f.col(\"family_history\") == \"Yes\", f.lit(1)).\\\n",
    "    when(\n",
    "        f.col(\"family_history\") == \"I don't know\", f.lit(2)).otherwise(3)\n",
    ")\n",
    "df_construction.select(\"family_history\").distinct().show()\n",
    "\n",
    "#Format self history data\n",
    "df_construction = df_construction.withColumn(\n",
    "    \"self_history\",\n",
    "    f.when(\n",
    "        f.col(\"self_history\") == \"No\", f.lit(0)).\\\n",
    "    when(\n",
    "        f.col(\"self_history\") == \"Yes\", f.lit(1)).\\\n",
    "    when(\n",
    "        f.col(\"self_history\") == \"Maybe\", f.lit(2)).otherwise(3)\n",
    ")\n",
    "df_construction.select(\"self_history\").distinct().show()\n",
    "\n",
    "#Format current condition data\n",
    "df_construction = df_construction.withColumn(\n",
    "    \"current_condition\",\n",
    "    f.when(\n",
    "        f.col(\"current_condition\") == \"No\", f.lit(0)).\\\n",
    "    when(\n",
    "        f.col(\"current_condition\") == \"Yes\", f.lit(1)).\\\n",
    "    when(\n",
    "        f.col(\"current_condition\") == \"Maybe\", f.lit(2)).otherwise(3)\n",
    ")\n",
    "df_construction.select(\"current_condition\").distinct().show()"
   ]
  },
  {
   "cell_type": "code",
   "execution_count": 25,
   "metadata": {},
   "outputs": [
    {
     "name": "stdout",
     "output_type": "stream",
     "text": [
      "+------+\n",
      "|gender|\n",
      "+------+\n",
      "|     1|\n",
      "|     2|\n",
      "|     0|\n",
      "+------+\n",
      "\n",
      "+-----------+\n",
      "|remote_work|\n",
      "+-----------+\n",
      "|          1|\n",
      "|          2|\n",
      "|          0|\n",
      "+-----------+\n",
      "\n"
     ]
    }
   ],
   "source": [
    "#Format gender data\n",
    "df_construction = df_construction.withColumn(\n",
    "    \"gender\",\n",
    "    f.when(\n",
    "        f.col(\"gender\") == \"female\", f.lit(0)).\\\n",
    "    when(\n",
    "        f.col(\"gender\") == \"male\", f.lit(1)).\\\n",
    "    when(\n",
    "        f.col(\"gender\") == \"other\", f.lit(2)).otherwise(3)\n",
    ")\n",
    "df_construction.select(\"gender\").distinct().show()\n",
    "\n",
    "#Format remote work data\n",
    "df_construction = df_construction.withColumn(\n",
    "    \"remote_work\",\n",
    "    f.when(\n",
    "        f.col(\"remote_work\") == \"Never\", f.lit(0)).\\\n",
    "    when(\n",
    "        f.col(\"remote_work\") == \"Sometimes\", f.lit(1)).\\\n",
    "    when(\n",
    "        f.col(\"remote_work\") == \"Always\", f.lit(2)).otherwise(3)\n",
    ")\n",
    "df_construction.select(\"remote_work\").distinct().show()"
   ]
  },
  {
   "cell_type": "code",
   "execution_count": 26,
   "metadata": {},
   "outputs": [
    {
     "name": "stdout",
     "output_type": "stream",
     "text": [
      "+---------------+\n",
      "|health_coverage|\n",
      "+---------------+\n",
      "|              1|\n",
      "|              3|\n",
      "|              2|\n",
      "|              0|\n",
      "+---------------+\n",
      "\n"
     ]
    }
   ],
   "source": [
    "#Format health coverage data\n",
    "df_construction = df_construction.withColumn(\n",
    "    \"health_coverage\",\n",
    "    f.when(\n",
    "        f.col(\"health_coverage\") == \"No\", f.lit(0)).\\\n",
    "    when(\n",
    "        f.col(\"health_coverage\") == \"Yes\", f.lit(1)).\\\n",
    "    when(\n",
    "        f.col(\"health_coverage\") == \"I don't know\", f.lit(2)).otherwise(3)\n",
    ")\n",
    "df_construction.select(\"health_coverage\").distinct().show()"
   ]
  },
  {
   "cell_type": "code",
   "execution_count": 27,
   "metadata": {},
   "outputs": [
    {
     "name": "stdout",
     "output_type": "stream",
     "text": [
      "+------------+\n",
      "|no_employees|\n",
      "+------------+\n",
      "|           1|\n",
      "|           3|\n",
      "|           5|\n",
      "|           4|\n",
      "|           2|\n",
      "|           0|\n",
      "+------------+\n",
      "\n"
     ]
    }
   ],
   "source": [
    "#Format number of employees data\n",
    "df_construction = df_construction.withColumn(\n",
    "    \"no_employees\",\n",
    "    f.when(\n",
    "        f.col(\"no_employees\") == \"1-5\", f.lit(0)).\\\n",
    "    when(\n",
    "        f.col(\"no_employees\") == \"6-25\", f.lit(1)).\\\n",
    "    when(\n",
    "        f.col(\"no_employees\") == \"26-100\", f.lit(2)).\\\n",
    "    when(\n",
    "        f.col(\"no_employees\") == \"100-500\", f.lit(3)).\\\n",
    "    when(\n",
    "        f.col(\"no_employees\") == \"500-1000\", f.lit(4)).otherwise(5)\n",
    ")\n",
    "df_construction.select(\"no_employees\").distinct().show()"
   ]
  },
  {
   "cell_type": "code",
   "execution_count": 28,
   "metadata": {},
   "outputs": [
    {
     "name": "stdout",
     "output_type": "stream",
     "text": [
      "+-----+\n",
      "|leave|\n",
      "+-----+\n",
      "|    1|\n",
      "|    3|\n",
      "|    5|\n",
      "|    4|\n",
      "|    2|\n",
      "|    0|\n",
      "+-----+\n",
      "\n",
      "+--------------+\n",
      "|coworkers_view|\n",
      "+--------------+\n",
      "|             1|\n",
      "|             3|\n",
      "|             4|\n",
      "|             2|\n",
      "|             0|\n",
      "+--------------+\n",
      "\n",
      "+-----+\n",
      "|share|\n",
      "+-----+\n",
      "|    1|\n",
      "|    3|\n",
      "|    5|\n",
      "|    4|\n",
      "|    2|\n",
      "|    0|\n",
      "+-----+\n",
      "\n"
     ]
    }
   ],
   "source": [
    "#Format leave data\n",
    "df_construction = df_construction.withColumn(\n",
    "    \"leave\",\n",
    "    f.when(\n",
    "        f.col(\"leave\") == \"I don't know\", f.lit(0)).\\\n",
    "    when(\n",
    "        f.col(\"leave\") == \"Very easy\", f.lit(1)).\\\n",
    "    when(\n",
    "        f.col(\"leave\") == \"Somewhat easy\", f.lit(2)).\\\n",
    "    when(\n",
    "        f.col(\"leave\") == \"Neither easy nor difficult\", f.lit(3)).\\\n",
    "    when(\n",
    "        f.col(\"leave\") == \"Somewhat difficult\", f.lit(4)).otherwise(5)\n",
    ")\n",
    "df_construction.select(\"leave\").distinct().show()\n",
    "\n",
    "#Format coworkers view data\n",
    "df_construction = df_construction.withColumn(\n",
    "    \"coworkers_view\",\n",
    "    f.when(\n",
    "        f.col(\"coworkers_view\") == \"No, they do not\", f.lit(0)).\\\n",
    "    when(\n",
    "        f.col(\"coworkers_view\") == \"No, I don't think they would\", f.lit(1)).\\\n",
    "    when(\n",
    "        f.col(\"coworkers_view\") == \"Maybe\", f.lit(2)).\\\n",
    "    when(\n",
    "        f.col(\"coworkers_view\") == \"Yes, I think they would\", f.lit(3)).otherwise(4)\n",
    ")\n",
    "df_construction.select(\"coworkers_view\").distinct().show()\n",
    "\n",
    "#Format share data\n",
    "df_construction = df_construction.withColumn(\n",
    "    \"share\",\n",
    "    f.when(\n",
    "        f.col(\"share\") == \"Not applicable to me (I do not have a mental illness)\", f.lit(0)).\\\n",
    "    when(\n",
    "        f.col(\"share\") == \"Not open at all\", f.lit(1)).\\\n",
    "    when(\n",
    "        f.col(\"share\") == \"Somewhat not open\", f.lit(2)).\\\n",
    "    when(\n",
    "        f.col(\"share\") == \"Neutral\", f.lit(3)).\\\n",
    "    when(\n",
    "        f.col(\"share\") == \"Somewhat open\", f.lit(4)).otherwise(5)\n",
    ")\n",
    "df_construction.select(\"share\").distinct().show()"
   ]
  },
  {
   "cell_type": "code",
   "execution_count": 29,
   "metadata": {},
   "outputs": [
    {
     "name": "stdout",
     "output_type": "stream",
     "text": [
      "+--------------+\n",
      "|work_interfere|\n",
      "+--------------+\n",
      "|             1|\n",
      "|             3|\n",
      "|             4|\n",
      "|             2|\n",
      "|             0|\n",
      "+--------------+\n",
      "\n",
      "+-----------------+\n",
      "|success_treatment|\n",
      "+-----------------+\n",
      "|                1|\n",
      "|                3|\n",
      "|                4|\n",
      "|                2|\n",
      "|                0|\n",
      "+-----------------+\n",
      "\n",
      "+----------------+\n",
      "|failed_treatment|\n",
      "+----------------+\n",
      "|               1|\n",
      "|               3|\n",
      "|               4|\n",
      "|               2|\n",
      "|               0|\n",
      "+----------------+\n",
      "\n"
     ]
    }
   ],
   "source": [
    "#Format work interfere data\n",
    "df_construction = df_construction.withColumn(\n",
    "    \"work_interfere\",\n",
    "    f.when(\n",
    "        f.col(\"work_interfere\") == \"Not applicable to me\", f.lit(0)).\\\n",
    "    when(\n",
    "        f.col(\"work_interfere\") == \"Never\", f.lit(1)).\\\n",
    "    when(\n",
    "        f.col(\"work_interfere\") == \"Rarely\", f.lit(2)).\\\n",
    "    when(\n",
    "        f.col(\"work_interfere\") == \"Sometimes\", f.lit(3)).otherwise(4)\n",
    ")\n",
    "df_construction.select(\"work_interfere\").distinct().show()\n",
    "\n",
    "#Format success treatment data\n",
    "df_construction = df_construction.withColumn(\n",
    "    \"success_treatment\",\n",
    "    f.when(\n",
    "        f.col(\"success_treatment\") == \"Not applicable to me\", f.lit(0)).\\\n",
    "    when(\n",
    "        f.col(\"success_treatment\") == \"Never\", f.lit(1)).\\\n",
    "    when(\n",
    "        f.col(\"success_treatment\") == \"Rarely\", f.lit(2)).\\\n",
    "    when(\n",
    "        f.col(\"success_treatment\") == \"Sometimes\", f.lit(3)).otherwise(4)\n",
    ")\n",
    "df_construction.select(\"success_treatment\").distinct().show()\n",
    "\n",
    "#Format failed treatment data\n",
    "df_construction = df_construction.withColumn(\n",
    "    \"failed_treatment\",\n",
    "    f.when(\n",
    "        f.col(\"failed_treatment\") == \"Not applicable to me\", f.lit(0)).\\\n",
    "    when(\n",
    "        f.col(\"failed_treatment\") == \"Never\", f.lit(1)).\\\n",
    "    when(\n",
    "        f.col(\"failed_treatment\") == \"Rarely\", f.lit(2)).\\\n",
    "    when(\n",
    "        f.col(\"failed_treatment\") == \"Sometimes\", f.lit(3)).otherwise(4)\n",
    ")\n",
    "df_construction.select(\"failed_treatment\").distinct().show()"
   ]
  },
  {
   "cell_type": "code",
   "execution_count": 30,
   "metadata": {},
   "outputs": [
    {
     "name": "stdout",
     "output_type": "stream",
     "text": [
      "+------------+---+--------+-----------+\n",
      "|no_employees|age|position|remote_work|\n",
      "+------------+---+--------+-----------+\n",
      "|           2| 39|       0|          1|\n",
      "|           1| 29|       0|          0|\n",
      "|           1| 38|       0|          2|\n",
      "|           1| 43|       1|          1|\n",
      "|           5| 42|       0|          1|\n",
      "|           2| 30|       0|          1|\n",
      "|           5| 37|       0|          2|\n",
      "|           2| 44|       0|          1|\n",
      "|           2| 28|       0|          0|\n",
      "|           3| 34|       0|          1|\n",
      "|           3| 30|       1|          2|\n",
      "|           3| 44|       0|          1|\n",
      "|           3| 35|       0|          2|\n",
      "|           3| 52|       0|          1|\n",
      "|           2| 32|       0|          2|\n",
      "|           4| 34|       0|          0|\n",
      "|           3| 31|       0|          1|\n",
      "|           1| 26|       0|          1|\n",
      "|           5| 35|       0|          0|\n",
      "|           2| 25|       0|          1|\n",
      "+------------+---+--------+-----------+\n",
      "only showing top 20 rows\n",
      "\n",
      "+------------+---+--------+-----------+\n",
      "|no_employees|age|position|remote_work|\n",
      "+------------+---+--------+-----------+\n",
      "|           1| 17|       0|          2|\n",
      "|           1| 19|       1|          2|\n",
      "|           5| 19|       0|          0|\n",
      "|           1| 20|       0|          0|\n",
      "|           1| 20|       0|          2|\n",
      "|           5| 20|       0|          1|\n",
      "|           1| 20|       0|          1|\n",
      "|           1| 20|       0|          0|\n",
      "|           1| 21|       1|          0|\n",
      "|           5| 21|       0|          1|\n",
      "|           1| 21|       0|          0|\n",
      "|           5| 21|       0|          0|\n",
      "|           1| 21|       0|          1|\n",
      "|           5| 21|       0|          0|\n",
      "|           0| 21|       0|          2|\n",
      "|           0| 21|       0|          0|\n",
      "|           2| 21|       0|          0|\n",
      "|           0| 21|       0|          0|\n",
      "|           5| 21|       0|          1|\n",
      "|           2| 21|       0|          1|\n",
      "+------------+---+--------+-----------+\n",
      "only showing top 20 rows\n",
      "\n"
     ]
    }
   ],
   "source": [
    "\"\"\"\n",
    "3.5 Data Formatting\n",
    "\"\"\"\n",
    "df_transform = df_construction\n",
    "\n",
    "df_transform.select([\"no_employees\", \"age\", \"position\", \"remote_work\"]).show()\n",
    "df_transform = df_transform.sort(col(\"age\").asc())\n",
    "df_transform.select([\"no_employees\", \"age\", \"position\", \"remote_work\"]).show()"
   ]
  },
  {
   "cell_type": "code",
   "execution_count": 31,
   "metadata": {},
   "outputs": [
    {
     "data": {
      "text/plain": [
       "['self_employed',\n",
       " 'no_employees',\n",
       " 'tech_company',\n",
       " 'health_coverage',\n",
       " 'mental_health_discussion',\n",
       " 'leave',\n",
       " 'mental_health_consequence',\n",
       " 'coworkers',\n",
       " 'supervisor',\n",
       " 'coworkers_view',\n",
       " 'share',\n",
       " 'family_history',\n",
       " 'self_history',\n",
       " 'current_condition',\n",
       " 'diagnosed',\n",
       " 'treatment',\n",
       " 'work_interfere',\n",
       " 'success_treatment',\n",
       " 'failed_treatment',\n",
       " 'age',\n",
       " 'gender',\n",
       " 'position',\n",
       " 'remote_work']"
      ]
     },
     "execution_count": 31,
     "metadata": {},
     "output_type": "execute_result"
    }
   ],
   "source": [
    "df_transform.columns"
   ]
  },
  {
   "cell_type": "code",
   "execution_count": 32,
   "metadata": {},
   "outputs": [
    {
     "data": {
      "text/plain": [
       "<Figure size 2200x1000 with 2 Axes>"
      ]
     },
     "metadata": {},
     "output_type": "display_data"
    }
   ],
   "source": [
    "'''\n",
    "#4 Data Transformation\n",
    "#4.1.2 Ranking - Correlation matrix with Heatmap\n",
    "'''\n",
    "from pyspark.mllib.stat import Statistics\n",
    "from pyspark import SparkContext, SparkConf\n",
    "import seaborn as sns\n",
    "import matplotlib.pyplot as plt\n",
    "conf = SparkConf().setAppName('722_Iteration4_anug012').setMaster(\"local[*]\")\n",
    "sc = SparkContext.getOrCreate(conf)\n",
    "\n",
    "resultRDD = df_transform.rdd.map(lambda row: row[0:])\n",
    "corrlation_matrix = Statistics.corr(resultRDD, method = 'pearson')\n",
    "rdd0 = sc.parallelize(corrlation_matrix)\n",
    "rdd1 = rdd0.map(lambda x: [float(i) for i in x])\n",
    "corrlation_matrix[1]\n",
    "\n",
    "plt.figure(figsize=(22,10))\n",
    "sns.heatmap(corrlation_matrix, cmap=\"Purples\", annot = True)\n",
    "plt.show()"
   ]
  },
  {
   "cell_type": "code",
   "execution_count": 33,
   "metadata": {},
   "outputs": [
    {
     "data": {
      "text/plain": [
       "['no_employees',\n",
       " 'leave',\n",
       " 'share',\n",
       " 'self_history',\n",
       " 'current_condition',\n",
       " 'diagnosed',\n",
       " 'treatment',\n",
       " 'work_interfere',\n",
       " 'success_treatment',\n",
       " 'failed_treatment',\n",
       " 'age',\n",
       " 'position',\n",
       " 'remote_work']"
      ]
     },
     "execution_count": 33,
     "metadata": {},
     "output_type": "execute_result"
    }
   ],
   "source": [
    "#Selecting the data\n",
    "df_select = df_transform.drop(*[\"self_employed\", \"tech_company\", \n",
    "                                        \"health_coverage\", \"mental_health_interview_reason\",\n",
    "                                        \"mental_health_consequence\", \"coworkers\", \"supervisor\",\n",
    "                                        \"coworkers_view\", \"family_history\", \"mental_health_discussion\", \"gender\"])\n",
    "df_select.columns"
   ]
  },
  {
   "cell_type": "code",
   "execution_count": 34,
   "metadata": {},
   "outputs": [
    {
     "name": "stdout",
     "output_type": "stream",
     "text": [
      "root\n",
      " |-- no_employees: integer (nullable = false)\n",
      " |-- leave: integer (nullable = false)\n",
      " |-- share: integer (nullable = false)\n",
      " |-- self_history: integer (nullable = false)\n",
      " |-- current_condition: integer (nullable = false)\n",
      " |-- diagnosed: integer (nullable = false)\n",
      " |-- treatment: integer (nullable = true)\n",
      " |-- work_interfere: integer (nullable = false)\n",
      " |-- success_treatment: integer (nullable = false)\n",
      " |-- failed_treatment: integer (nullable = false)\n",
      " |-- age: integer (nullable = true)\n",
      " |-- position: integer (nullable = false)\n",
      " |-- remote_work: integer (nullable = false)\n",
      "\n",
      "+---+\n",
      "|age|\n",
      "+---+\n",
      "|  0|\n",
      "|  0|\n",
      "|  0|\n",
      "|  0|\n",
      "|  0|\n",
      "|  0|\n",
      "|  0|\n",
      "|  0|\n",
      "|  1|\n",
      "|  1|\n",
      "|  1|\n",
      "|  1|\n",
      "|  1|\n",
      "|  1|\n",
      "|  1|\n",
      "|  1|\n",
      "|  1|\n",
      "|  1|\n",
      "|  1|\n",
      "|  1|\n",
      "+---+\n",
      "only showing top 20 rows\n",
      "\n",
      "+---+\n",
      "|age|\n",
      "+---+\n",
      "|  1|\n",
      "|  3|\n",
      "|  5|\n",
      "|  4|\n",
      "|  2|\n",
      "|  0|\n",
      "+---+\n",
      "\n"
     ]
    }
   ],
   "source": [
    "#4.2 Project the Data\n",
    "from pyspark.sql.types import IntegerType\n",
    "df_project = df_select.withColumn(\"age\", df_select[\"age\"].cast(IntegerType()))\n",
    "df_project = df_project.withColumn(\"treatment\", df_project[\"treatment\"].cast(IntegerType()))\n",
    "df_project.printSchema()\n",
    "\n",
    "df_project = df_project.withColumn(\n",
    "    \"age\",\n",
    "    f.when(\n",
    "        (f.col(\"age\") > 10) & (f.col(\"age\") <= 20), f.lit(0)).\\\n",
    "    when(\n",
    "        (f.col(\"age\") > 20) & (f.col(\"age\") <= 30), f.lit(1)).\\\n",
    "    when(\n",
    "        (f.col(\"age\") > 30) & (f.col(\"age\") <= 40), f.lit(2)).\\\n",
    "    when(\n",
    "        (f.col(\"age\") > 40) & (f.col(\"age\") <= 50), f.lit(3)).\\\n",
    "    when(\n",
    "        (f.col(\"age\") > 50) & (f.col(\"age\") <= 60), f.lit(4)).otherwise(5)\n",
    ")\n",
    "\n",
    "df_project.select(\"age\").show()\n",
    "df_project.select(\"age\").distinct().show()"
   ]
  },
  {
   "cell_type": "code",
   "execution_count": 35,
   "metadata": {},
   "outputs": [],
   "source": [
    "#combining atttributes into the of features and target is current_condition\n",
    "from pyspark.ml.linalg import Vectors\n",
    "from pyspark.ml.feature import VectorAssembler\n",
    "from pyspark.ml.feature import StringIndexer\n",
    "from pyspark.ml import Pipeline\n",
    "\n",
    "current_columns = ['no_employees',\n",
    " 'leave',\n",
    " 'share',\n",
    " 'self_history',\n",
    " 'diagnosed',\n",
    " 'treatment',\n",
    " 'work_interfere',\n",
    " 'success_treatment',\n",
    " 'failed_treatment',\n",
    " 'age',\n",
    " 'position',\n",
    " 'remote_work']\n",
    "\n",
    "assembler_features = VectorAssembler(inputCols = current_columns, outputCol= \"features\")\n",
    "labelIndexer = StringIndexer(inputCol = 'current_condition', outputCol= \"label\")\n",
    "tmp = [assembler_features, labelIndexer]\n",
    "pipeline = Pipeline(stages = tmp)"
   ]
  },
  {
   "cell_type": "code",
   "execution_count": 36,
   "metadata": {},
   "outputs": [
    {
     "name": "stdout",
     "output_type": "stream",
     "text": [
      "Distribution of Positive and Negative in dataTraining is:  [Row(label=0.0, count=356), Row(label=1.0, count=337), Row(label=2.0, count=203)]\n"
     ]
    }
   ],
   "source": [
    "#Split data into training 80% and test 20%\n",
    "fullData = pipeline.fit(df_project).transform(df_project)\n",
    "fullData.cache()\n",
    "\n",
    "dataTraining, dataTest = fullData.randomSplit([0.8, 0.2], seed=0)\n",
    "print(\"Distribution of Positive and Negative in dataTraining is: \", dataTraining.groupBy(\"label\").count().take(3))"
   ]
  },
  {
   "cell_type": "code",
   "execution_count": 37,
   "metadata": {},
   "outputs": [
    {
     "data": {
      "text/plain": [
       "SparseVector(12, {3: 0.1106, 4: 0.1872, 6: 0.0166, 8: 0.6855})"
      ]
     },
     "execution_count": 37,
     "metadata": {},
     "output_type": "execute_result"
    }
   ],
   "source": [
    "#Decision Tree Classifier\n",
    "from pyspark.ml.classification import DecisionTreeClassifier as DT\n",
    "tree = DT(labelCol = \"label\", featuresCol = \"features\", maxDepth = 3)\n",
    "tree_fit = tree.fit(dataTraining)\n",
    "tree_transformed = tree_fit.transform(dataTest)\n",
    "\n",
    "tree_fit.featureImportances"
   ]
  },
  {
   "cell_type": "code",
   "execution_count": 38,
   "metadata": {},
   "outputs": [
    {
     "name": "stdout",
     "output_type": "stream",
     "text": [
      "The ROC score is:  0.7946846341006926\n",
      "Area under PR = 0.7992428584636462\n",
      "              precision    recall  f1-score   support\n",
      "\n",
      "         0.0       0.81      0.64      0.71        78\n",
      "         1.0       0.73      0.83      0.77        93\n",
      "         2.0       0.53      0.57      0.55        44\n",
      "\n",
      "    accuracy                           0.71       215\n",
      "   macro avg       0.69      0.68      0.68       215\n",
      "weighted avg       0.72      0.71      0.71       215\n",
      "\n"
     ]
    }
   ],
   "source": [
    "#6.3.1 Decision Tree\n",
    "from pyspark.mllib.evaluation import BinaryClassificationMetrics as metric\n",
    "from pyspark import SparkContext, SparkConf\n",
    "conf = SparkConf().setAppName('722_Iteration4_anug012').setMaster(\"local[*]\")\n",
    "sc = SparkContext.getOrCreate(conf)\n",
    "\n",
    "tree_results = tree_transformed.select(['probability', 'label'])\n",
    "\n",
    "tree_results_collect = tree_results.collect()\n",
    "tree_results_list = [(float(i[0][0]), 1.0-float(i[1])) for i in tree_results_collect]\n",
    "\n",
    "tree_scoreAndLabels = sc.parallelize(tree_results_list)\n",
    "tree_metrics = metric(tree_scoreAndLabels)\n",
    "print(\"The ROC score is: \", tree_metrics.areaUnderROC)\n",
    "# Area under precision-recall curve\n",
    "print(\"Area under PR = %s\" % tree_metrics.areaUnderPR)\n",
    "\n",
    "from sklearn.metrics import classification_report, confusion_matrix\n",
    "y_true = tree_transformed.select(['label']).collect()\n",
    "y_pred = tree_transformed.select(['prediction']).collect()\n",
    "print(classification_report(y_true, y_pred))"
   ]
  },
  {
   "cell_type": "code",
   "execution_count": 39,
   "metadata": {},
   "outputs": [
    {
     "data": {
      "text/plain": [
       "SparseVector(12, {0: 0.004, 1: 0.0078, 2: 0.0104, 3: 0.1853, 4: 0.2286, 5: 0.0309, 6: 0.0843, 7: 0.0931, 8: 0.351, 9: 0.0026, 10: 0.0008, 11: 0.0013})"
      ]
     },
     "execution_count": 39,
     "metadata": {},
     "output_type": "execute_result"
    }
   ],
   "source": [
    "#Random Forest Classifer\n",
    "from pyspark.ml.classification import RandomForestClassifier as RF\n",
    "rf = RF(labelCol = \"label\", featuresCol = \"features\", numTrees = 200, maxDepth = 3)\n",
    "fit = rf.fit(dataTraining)\n",
    "transformed = fit.transform(dataTest)\n",
    "\n",
    "fit.featureImportances"
   ]
  },
  {
   "cell_type": "code",
   "execution_count": 40,
   "metadata": {},
   "outputs": [
    {
     "name": "stdout",
     "output_type": "stream",
     "text": [
      "The ROC score is:  0.8147576268014227\n",
      "Area under PR = 0.7763394938836933\n",
      "              precision    recall  f1-score   support\n",
      "\n",
      "         0.0       0.81      0.64      0.71        78\n",
      "         1.0       0.71      0.90      0.79        93\n",
      "         2.0       0.56      0.43      0.49        44\n",
      "\n",
      "    accuracy                           0.71       215\n",
      "   macro avg       0.69      0.66      0.66       215\n",
      "weighted avg       0.71      0.71      0.70       215\n",
      "\n"
     ]
    }
   ],
   "source": [
    "#6.3.2 Random Forest\n",
    "from pyspark.mllib.evaluation import BinaryClassificationMetrics as metric\n",
    "from pyspark import SparkContext, SparkConf\n",
    "conf = SparkConf().setAppName('722_Iteration4_anug012').setMaster(\"local[*]\")\n",
    "sc = SparkContext.getOrCreate(conf)\n",
    "\n",
    "results = transformed.select(['probability', 'label'])\n",
    "\n",
    "results_collect = results.collect()\n",
    "results_list = [(float(i[0][0]), 1.0-float(i[1])) for i in results_collect]\n",
    "\n",
    "scoreAndLabels = sc.parallelize(results_list)\n",
    "metrics = metric(scoreAndLabels)\n",
    "print(\"The ROC score is: \", metrics.areaUnderROC)\n",
    "# Area under precision-recall curve\n",
    "print(\"Area under PR = %s\" % metrics.areaUnderPR)\n",
    "\n",
    "from sklearn.metrics import classification_report, confusion_matrix\n",
    "y_true = transformed.select(['label']).collect()\n",
    "y_pred = transformed.select(['prediction']).collect()\n",
    "print(classification_report(y_true, y_pred))"
   ]
  },
  {
   "cell_type": "code",
   "execution_count": 41,
   "metadata": {},
   "outputs": [
    {
     "name": "stdout",
     "output_type": "stream",
     "text": [
      "Decision Tree Classifier\n",
      "0.7624461912783081\n",
      "Random Forest Classifer\n",
      "0.8021710649447875\n",
      "Naive Bayes\n",
      "0.7679674340258281\n"
     ]
    }
   ],
   "source": [
    "#7 Data Mining\n",
    "from pyspark.ml.classification import DecisionTreeClassifier,RandomForestClassifier, NaiveBayes\n",
    "from pyspark.ml import Pipeline\n",
    "\n",
    "dtc = DecisionTreeClassifier(labelCol='label',featuresCol='features')\n",
    "rfc = RandomForestClassifier(labelCol='label',featuresCol='features')\n",
    "nb = NaiveBayes(labelCol='label',featuresCol='features')\n",
    "\n",
    "dtc_model = dtc.fit(dataTraining)\n",
    "rfc_model = rfc.fit(dataTraining)\n",
    "nb_model = nb.fit(dataTraining)\n",
    "\n",
    "dtc_predictions = dtc_model.transform(dataTest)\n",
    "rfc_predictions = rfc_model.transform(dataTest)\n",
    "nb_predictions = nb_model.transform(dataTest)\n",
    "\n",
    "from pyspark.ml.evaluation import BinaryClassificationEvaluator\n",
    "\n",
    "my_binary_eval = BinaryClassificationEvaluator(labelCol = 'label')\n",
    "print(\"Decision Tree Classifier\")\n",
    "print(my_binary_eval.evaluate(dtc_predictions))\n",
    "\n",
    "print(\"Random Forest Classifer\")\n",
    "print(my_binary_eval.evaluate(rfc_predictions))\n",
    "\n",
    "my_binary_nb_eval = BinaryClassificationEvaluator(labelCol='label', rawPredictionCol='prediction')\n",
    "\n",
    "print(\"Naive Bayes\")\n",
    "print(my_binary_nb_eval.evaluate(nb_predictions))"
   ]
  },
  {
   "cell_type": "code",
   "execution_count": 42,
   "metadata": {},
   "outputs": [
    {
     "name": "stdout",
     "output_type": "stream",
     "text": [
      "Data Mining Model results!\n",
      "----------------------------------------\n",
      "A single decision tree has an accuracy of: 71.63%\n",
      "----------------------------------------\n",
      "A random forest ensemble has an accuracy of: 72.09%\n",
      "----------------------------------------\n",
      "An ensemble using Naive Bayes has an accuracy of: 66.05%\n"
     ]
    }
   ],
   "source": [
    "#7.2 Conduct Data Mining\n",
    "#Evaluating Accuracy for all test model\n",
    "from pyspark.ml.evaluation import MulticlassClassificationEvaluator\n",
    "\n",
    "acc_evaluator = MulticlassClassificationEvaluator(labelCol=\"label\", predictionCol=\"prediction\", metricName=\"accuracy\")\n",
    "\n",
    "dtc_acc = acc_evaluator.evaluate(dtc_predictions)\n",
    "rfc_acc = acc_evaluator.evaluate(rfc_predictions)\n",
    "nb_acc = acc_evaluator.evaluate(nb_predictions)\n",
    "\n",
    "print(\"Data Mining Model results!\")\n",
    "print('-'*40)\n",
    "print('A single decision tree has an accuracy of: {0:2.2f}%'.format(dtc_acc*100))\n",
    "print('-'*40)\n",
    "print('A random forest ensemble has an accuracy of: {0:2.2f}%'.format(rfc_acc*100))\n",
    "print('-'*40)\n",
    "print('An ensemble using Naive Bayes has an accuracy of: {0:2.2f}%'.format(nb_acc*100))"
   ]
  },
  {
   "cell_type": "code",
   "execution_count": 43,
   "metadata": {},
   "outputs": [
    {
     "data": {
      "text/plain": [
       "SparseVector(12, {0: 0.0178, 2: 0.0164, 3: 0.1585, 6: 0.0151, 8: 0.7784, 9: 0.0138})"
      ]
     },
     "execution_count": 43,
     "metadata": {},
     "output_type": "execute_result"
    }
   ],
   "source": [
    "#Decision Tree Features Important\n",
    "from pyspark.ml.regression import DecisionTreeRegressor as DTR\n",
    "dtr_tree = DTR(labelCol = \"label\", featuresCol = \"features\", maxDepth = 3)\n",
    "dtr_tree_fit = dtr_tree.fit(dataTraining)\n",
    "dtr_tree_transformed = dtr_tree_fit.transform(dataTest)\n",
    "\n",
    "dtr_tree_fit.featureImportances"
   ]
  },
  {
   "cell_type": "code",
   "execution_count": 44,
   "metadata": {},
   "outputs": [
    {
     "name": "stdout",
     "output_type": "stream",
     "text": [
      "Mean Absolute Error is:  2.5348837209302326\n",
      "Mean Squared Error:  8.869767441860464\n",
      "Root Mean Squared Error is:  2.9782154794205984\n",
      "R2 is:  -15.35179867591928\n",
      "Explained Variance is:  8.498366684694428\n"
     ]
    }
   ],
   "source": [
    "#Decision Tree Evaluation\n",
    "from pyspark.mllib.evaluation import RegressionMetrics as metric\n",
    "from pyspark import SparkContext, SparkConf\n",
    "conf = SparkConf().setAppName('722_Iteration4_anug012').setMaster(\"local[*]\")\n",
    "sc = SparkContext.getOrCreate(conf)\n",
    "\n",
    "dtr_results = dtr_tree_transformed.select(['features', 'label'])\n",
    "\n",
    "dtr_results_collect = dtr_results.collect()\n",
    "dtr_results_list = [(float(i[0][0]), 1.0-float(i[1])) for i in dtr_results_collect]\n",
    "\n",
    "dtr_scoreAndLabels = sc.parallelize(dtr_results_list)\n",
    "dtr_metrics = metric(dtr_scoreAndLabels)\n",
    "print(\"Mean Absolute Error is: \", dtr_metrics.meanAbsoluteError)\n",
    "print(\"Mean Squared Error: \", dtr_metrics.meanSquaredError)\n",
    "print(\"Root Mean Squared Error is: \", dtr_metrics.rootMeanSquaredError)\n",
    "print(\"R2 is: \", dtr_metrics.r2)\n",
    "print(\"Explained Variance is: \", dtr_metrics.explainedVariance)"
   ]
  },
  {
   "cell_type": "code",
   "execution_count": 45,
   "metadata": {},
   "outputs": [
    {
     "data": {
      "text/plain": [
       "SparseVector(12, {0: 0.0154, 1: 0.0135, 2: 0.0175, 3: 0.3425, 4: 0.03, 5: 0.0172, 6: 0.1221, 7: 0.1384, 8: 0.2927, 9: 0.007, 10: 0.0006, 11: 0.003})"
      ]
     },
     "execution_count": 45,
     "metadata": {},
     "output_type": "execute_result"
    }
   ],
   "source": [
    "#Random Forest Feature Importances\n",
    "from pyspark.ml.regression import RandomForestRegressor as RFR\n",
    "rfr_tree = RFR(labelCol = \"label\", featuresCol = \"features\", maxDepth = 3)\n",
    "rfr_tree_fit = rfr_tree.fit(dataTraining)\n",
    "rfr_tree_transformed = rfr_tree_fit.transform(dataTraining)\n",
    "\n",
    "rfr_tree_fit.featureImportances"
   ]
  },
  {
   "cell_type": "code",
   "execution_count": 46,
   "metadata": {},
   "outputs": [
    {
     "name": "stdout",
     "output_type": "stream",
     "text": [
      "Mean Absolute Error is:  2.627232142857143\n",
      "Mean Squared Error:  9.647321428571429\n",
      "Root Mean Squared Error is:  3.1060137521542672\n",
      "R2 is:  -15.221474275062565\n",
      "Explained Variance is:  9.010417081871822\n"
     ]
    }
   ],
   "source": [
    "#Random Forest Evaluation\n",
    "from pyspark.mllib.evaluation import RegressionMetrics as metric\n",
    "from pyspark import SparkContext, SparkConf\n",
    "conf = SparkConf().setAppName('722_Iteration4_anug012').setMaster(\"local[*]\")\n",
    "sc = SparkContext.getOrCreate(conf)\n",
    "\n",
    "rfr_results = rfr_tree_transformed.select(['features', 'label'])\n",
    "\n",
    "rfr_results_collect = rfr_results.collect()\n",
    "rfr_results_list = [(float(i[0][0]), 1.0-float(i[1])) for i in rfr_results_collect]\n",
    "\n",
    "rfr_scoreAndLabels = sc.parallelize(rfr_results_list)\n",
    "rfr_metrics = metric(rfr_scoreAndLabels)\n",
    "print(\"Mean Absolute Error is: \", rfr_metrics.meanAbsoluteError)\n",
    "print(\"Mean Squared Error: \", rfr_metrics.meanSquaredError)\n",
    "print(\"Root Mean Squared Error is: \", rfr_metrics.rootMeanSquaredError)\n",
    "print(\"R2 is: \", rfr_metrics.r2)\n",
    "print(\"Explained Variance is: \", rfr_metrics.explainedVariance)"
   ]
  },
  {
   "cell_type": "code",
   "execution_count": 60,
   "metadata": {},
   "outputs": [
    {
     "data": {
      "image/png": "[encoded data removed]",
      "text/plain": [
       "<Figure size 1656x432 with 1 Axes>"
      ]
     },
     "metadata": {},
     "output_type": "display_data"
    },
    {
     "data": {
      "image/png": "[encoded data removed]",
      "text/plain": [
       "<Figure size 1656x432 with 1 Axes>"
      ]
     },
     "metadata": {},
     "output_type": "display_data"
    }
   ],
   "source": [
    "labels = ['no_employees',\n",
    " 'leave',\n",
    " 'share',\n",
    " 'self_history',\n",
    " 'diagnosed',\n",
    " 'treatment',\n",
    " 'work_interfere',\n",
    " 'success_treatment',\n",
    " 'failed_treatment',\n",
    " 'age',\n",
    " 'position',\n",
    " 'remote_work']\n",
    "\n",
    "#Decision Tree Features Important\n",
    "from pyspark.ml.regression import DecisionTreeRegressor as DTR\n",
    "dtr_tree = DTR(labelCol = \"label\", featuresCol = \"features\", maxDepth = 3)\n",
    "dtr_tree_fit = dtr_tree.fit(dataTraining)\n",
    "dtr_tree_transformed = dtr_tree_fit.transform(dataTest)\n",
    "\n",
    "dtr_tree_fit.featureImportances\n",
    "\n",
    "plt.figure(figsize=(23,6))\n",
    "plt.bar(labels, dtr_tree_fit.featureImportances)\n",
    "plt.xticks(rotation=90)\n",
    "plt.title('Decision Tree Feature Importance')\n",
    "plt.show(5)\n",
    "\n",
    "#Random Forest Feature Importances\n",
    "from pyspark.ml.regression import RandomForestRegressor as RFR\n",
    "rfr_tree = RFR(labelCol = \"label\", featuresCol = \"features\", maxDepth = 3)\n",
    "rfr_tree_fit = rfr_tree.fit(dataTraining)\n",
    "rfr_tree_transformed = rfr_tree_fit.transform(dataTest)\n",
    "\n",
    "rfr_tree_fit.featureImportances\n",
    "\n",
    "plt.figure(figsize=(23,6))\n",
    "plt.bar(labels, rfr_tree_fit.featureImportances)\n",
    "plt.xticks(rotation=90)\n",
    "plt.title('Random Forest Feature Importance')\n",
    "plt.show(5)"
   ]
  },
  {
   "cell_type": "code",
   "execution_count": 47,
   "metadata": {},
   "outputs": [
    {
     "name": "stdout",
     "output_type": "stream",
     "text": [
      "DecisionTreeClassificationModel (uid=DecisionTreeClassifier_48f78c6220297a024354) of depth 5 with 55 nodes\n",
      "  If (feature 8 <= 0.0)\n",
      "   If (feature 3 <= 0.0)\n",
      "    If (feature 6 <= 3.0)\n",
      "     If (feature 1 <= 3.0)\n",
      "      If (feature 5 <= 0.0)\n",
      "       Predict: 0.0\n",
      "      Else (feature 5 > 0.0)\n",
      "       Predict: 0.0\n",
      "     Else (feature 1 > 3.0)\n",
      "      If (feature 2 <= 2.0)\n",
      "       Predict: 0.0\n",
      "      Else (feature 2 > 2.0)\n",
      "       Predict: 0.0\n",
      "    Else (feature 6 > 3.0)\n",
      "     Predict: 2.0\n",
      "   Else (feature 3 > 0.0)\n",
      "    If (feature 6 <= 0.0)\n",
      "     If (feature 1 <= 4.0)\n",
      "      If (feature 5 <= 0.0)\n",
      "       Predict: 0.0\n",
      "      Else (feature 5 > 0.0)\n",
      "       Predict: 0.0\n",
      "     Else (feature 1 > 4.0)\n",
      "      If (feature 2 <= 0.0)\n",
      "       Predict: 2.0\n",
      "      Else (feature 2 > 0.0)\n",
      "       Predict: 0.0\n",
      "    Else (feature 6 > 0.0)\n",
      "     If (feature 3 <= 1.0)\n",
      "      If (feature 0 <= 1.0)\n",
      "       Predict: 0.0\n",
      "      Else (feature 0 > 1.0)\n",
      "       Predict: 1.0\n",
      "     Else (feature 3 > 1.0)\n",
      "      Predict: 2.0\n",
      "  Else (feature 8 > 0.0)\n",
      "   If (feature 4 <= 0.0)\n",
      "    If (feature 3 <= 1.0)\n",
      "     If (feature 3 <= 0.0)\n",
      "      If (feature 6 <= 0.0)\n",
      "       Predict: 2.0\n",
      "      Else (feature 6 > 0.0)\n",
      "       Predict: 0.0\n",
      "     Else (feature 3 > 0.0)\n",
      "      If (feature 6 <= 2.0)\n",
      "       Predict: 1.0\n",
      "      Else (feature 6 > 2.0)\n",
      "       Predict: 2.0\n",
      "    Else (feature 3 > 1.0)\n",
      "     If (feature 0 <= 3.0)\n",
      "      If (feature 6 <= 1.0)\n",
      "       Predict: 2.0\n",
      "      Else (feature 6 > 1.0)\n",
      "       Predict: 2.0\n",
      "     Else (feature 0 > 3.0)\n",
      "      If (feature 0 <= 4.0)\n",
      "       Predict: 0.0\n",
      "      Else (feature 0 > 4.0)\n",
      "       Predict: 2.0\n",
      "   Else (feature 4 > 0.0)\n",
      "    If (feature 3 <= 1.0)\n",
      "     If (feature 8 <= 3.0)\n",
      "      If (feature 2 <= 0.0)\n",
      "       Predict: 2.0\n",
      "      Else (feature 2 > 0.0)\n",
      "       Predict: 1.0\n",
      "     Else (feature 8 > 3.0)\n",
      "      If (feature 2 <= 3.0)\n",
      "       Predict: 1.0\n",
      "      Else (feature 2 > 3.0)\n",
      "       Predict: 1.0\n",
      "    Else (feature 3 > 1.0)\n",
      "     If (feature 5 <= 0.0)\n",
      "      If (feature 0 <= 0.0)\n",
      "       Predict: 0.0\n",
      "      Else (feature 0 > 0.0)\n",
      "       Predict: 1.0\n",
      "     Else (feature 5 > 0.0)\n",
      "      If (feature 2 <= 3.0)\n",
      "       Predict: 2.0\n",
      "      Else (feature 2 > 3.0)\n",
      "       Predict: 2.0\n",
      "\n",
      " feature 0 : no_employees\n",
      " feature 1 : leave\n",
      " feature 2 : share\n",
      " feature 3 : self_history\n",
      " feature 4 : diagnosed\n",
      " feature 5 : treatment\n",
      " feature 6 : work_interfere\n",
      " feature 7 : success_treatment\n",
      " feature 8 : failed_treatment\n",
      " feature 9 : age\n",
      " feature 10 : position\n",
      " feature 11 : remote_work\n"
     ]
    }
   ],
   "source": [
    "feature_name = ['no_employees',\n",
    " 'leave',\n",
    " 'share',\n",
    " 'self_history',\n",
    " 'diagnosed',\n",
    " 'treatment',\n",
    " 'work_interfere',\n",
    " 'success_treatment',\n",
    " 'failed_treatment',\n",
    " 'age',\n",
    " 'position',\n",
    " 'remote_work']\n",
    "\n",
    "print(dtc_model.toDebugString)\n",
    "\n",
    "index = 0 \n",
    "for feature in feature_name:\n",
    "    print(' feature ' + str(index) + \" : \" + feature_name[index])\n",
    "    index += 1"
   ]
  },
  {
   "cell_type": "code",
   "execution_count": 48,
   "metadata": {},
   "outputs": [
    {
     "name": "stdout",
     "output_type": "stream",
     "text": [
      "ChiSqSelector output with top 10 features selected\n",
      "+------------+-----+-----+------------+-----------------+---------+---------+--------------+-----------------+----------------+---+--------+-----------+--------------------+-----+--------------------+\n",
      "|no_employees|leave|share|self_history|current_condition|diagnosed|treatment|work_interfere|success_treatment|failed_treatment|age|position|remote_work|            features|label|    selectedFeatures|\n",
      "+------------+-----+-----+------------+-----------------+---------+---------+--------------+-----------------+----------------+---+--------+-----------+--------------------+-----+--------------------+\n",
      "|           1|    4|    1|           0|                0|        0|        0|             1|                1|               3|  0|       0|          2|[1.0,4.0,1.0,0.0,...|  0.0|[4.0,1.0,0.0,0.0,...|\n",
      "|           5|    3|    2|           0|                0|        0|        0|             0|                0|               0|  0|       0|          0|(12,[0,1,2],[5.0,...|  0.0|(10,[0,1],[3.0,2.0])|\n",
      "|           1|    1|    3|           0|                0|        0|        0|             0|                0|               0|  0|       1|          2|(12,[0,1,2,10,11]...|  0.0|(10,[0,1,9],[1.0,...|\n",
      "|           1|    5|    4|           1|                2|        1|        1|             2|                2|               3|  0|       0|          0|[1.0,5.0,4.0,1.0,...|  2.0|[5.0,4.0,1.0,1.0,...|\n",
      "|           1|    2|    4|           0|                0|        0|        0|             0|                0|               0|  0|       0|          1|(12,[0,1,2,11],[1...|  0.0|(10,[0,1,9],[2.0,...|\n",
      "|           1|    0|    4|           1|                0|        1|        1|             1|                1|               4|  0|       0|          2|[1.0,0.0,4.0,1.0,...|  0.0|[0.0,4.0,1.0,1.0,...|\n",
      "|           5|    1|    4|           0|                0|        0|        0|             0|                0|               0|  0|       0|          1|(12,[0,1,2,11],[5...|  0.0|(10,[0,1,9],[1.0,...|\n",
      "|           1|    3|    2|           2|                2|        0|        0|             0|                0|               3|  0|       0|          0|(12,[0,1,2,3,8],[...|  2.0|(10,[0,1,2,7],[3....|\n",
      "|           0|    0|    4|           0|                0|        0|        0|             0|                0|               0|  1|       0|          0|(12,[2,9],[4.0,1.0])|  0.0|(10,[1,8],[4.0,1.0])|\n",
      "|           2|    0|    2|           1|                1|        1|        1|             3|                3|               3|  1|       0|          0|[2.0,0.0,2.0,1.0,...|  1.0|[0.0,2.0,1.0,1.0,...|\n",
      "+------------+-----+-----+------------+-----------------+---------+---------+--------------+-----------------+----------------+---+--------+-----------+--------------------+-----+--------------------+\n",
      "only showing top 10 rows\n",
      "\n"
     ]
    }
   ],
   "source": [
    "#ChiSqSelector\n",
    "\n",
    "from pyspark.ml.feature import ChiSqSelector as CSS\n",
    "from pyspark import SparkContext, SparkConf\n",
    "conf = SparkConf().setAppName('722_Iteration4_anug012').setMaster(\"local[*]\")\n",
    "sc = SparkContext.getOrCreate(conf)\n",
    "\n",
    "selector = CSS(numTopFeatures=10, featuresCol=\"features\",\n",
    "                         outputCol=\"selectedFeatures\", labelCol=\"label\")\n",
    "selector_result = selector.fit(fullData)\n",
    "selector_transformed = selector_result.transform(fullData)\n",
    "\n",
    "print(\"ChiSqSelector output with top %d features selected\" % selector.getNumTopFeatures())\n",
    "selector_transformed.show(10)"
   ]
  },
  {
   "cell_type": "code",
   "execution_count": 49,
   "metadata": {},
   "outputs": [],
   "source": [
    "#Naive Bayes\n",
    "from pyspark.ml.classification import NaiveBayes as NB\n",
    "nb = NB(labelCol = \"label\", featuresCol = \"features\")\n",
    "fit = nb.fit(dataTraining)\n",
    "nb_predict = fit.transform(dataTest)"
   ]
  },
  {
   "cell_type": "code",
   "execution_count": 50,
   "metadata": {},
   "outputs": [
    {
     "name": "stdout",
     "output_type": "stream",
     "text": [
      "The ROC score is:  0.7995040239565795\n",
      "Area under PR = 0.7528801451731479\n",
      "              precision    recall  f1-score   support\n",
      "\n",
      "         0.0       0.81      0.64      0.71        78\n",
      "         1.0       0.71      0.90      0.79        93\n",
      "         2.0       0.56      0.43      0.49        44\n",
      "\n",
      "    accuracy                           0.71       215\n",
      "   macro avg       0.69      0.66      0.66       215\n",
      "weighted avg       0.71      0.71      0.70       215\n",
      "\n"
     ]
    }
   ],
   "source": [
    "#6.3.3 Naive Bayes \n",
    "from pyspark.mllib.evaluation import BinaryClassificationMetrics as metric\n",
    "from pyspark import SparkContext, SparkConf\n",
    "conf = SparkConf().setAppName('722_Iteration4_anug012').setMaster(\"local[*]\")\n",
    "sc = SparkContext.getOrCreate(conf)\n",
    "\n",
    "results = nb_predict.select(['probability', 'label'])\n",
    "\n",
    "results_collect = results.collect()\n",
    "results_list = [(float(i[0][0]), 1.0-float(i[1])) for i in results_collect]\n",
    "\n",
    "scoreAndLabels = sc.parallelize(results_list)\n",
    "metrics = metric(scoreAndLabels)\n",
    "print(\"The ROC score is: \", metrics.areaUnderROC)\n",
    "# Area under precision-recall curve\n",
    "print(\"Area under PR = %s\" % metrics.areaUnderPR)\n",
    "\n",
    "from sklearn.metrics import classification_report, confusion_matrix\n",
    "y_true = transformed.select(['label']).collect()\n",
    "y_pred = transformed.select(['prediction']).collect()\n",
    "print(classification_report(y_true, y_pred))"
   ]
  },
  {
   "cell_type": "code",
   "execution_count": 51,
   "metadata": {},
   "outputs": [
    {
     "name": "stdout",
     "output_type": "stream",
     "text": [
      "Mean Absolute Error is:  2.5348837209302326\n",
      "Mean Squared Error:  8.869767441860464\n",
      "Root Mean Squared Error is:  2.9782154794205984\n",
      "R2 is:  -15.35179867591928\n",
      "Explained Variance is:  8.498366684694428\n"
     ]
    }
   ],
   "source": [
    "#Naive Bayes Evaluation\n",
    "\n",
    "from pyspark.mllib.evaluation import RegressionMetrics as metric\n",
    "from pyspark import SparkContext, SparkConf\n",
    "conf = SparkConf().setAppName('722_Iteration4_anug012').setMaster(\"local[*]\")\n",
    "sc = SparkContext.getOrCreate(conf)\n",
    "\n",
    "rfr_results = nb_predict.select(['features', 'label'])\n",
    "\n",
    "rfr_results_collect = rfr_results.collect()\n",
    "rfr_results_list = [(float(i[0][0]), 1.0-float(i[1])) for i in rfr_results_collect]\n",
    "\n",
    "rfr_scoreAndLabels = sc.parallelize(rfr_results_list)\n",
    "rfr_metrics = metric(rfr_scoreAndLabels)\n",
    "print(\"Mean Absolute Error is: \", rfr_metrics.meanAbsoluteError)\n",
    "print(\"Mean Squared Error: \", rfr_metrics.meanSquaredError)\n",
    "print(\"Root Mean Squared Error is: \", rfr_metrics.rootMeanSquaredError)\n",
    "print(\"R2 is: \", rfr_metrics.r2)\n",
    "print(\"Explained Variance is: \", rfr_metrics.explainedVariance)"
   ]
  },
  {
   "cell_type": "code",
   "execution_count": null,
   "metadata": {},
   "outputs": [],
   "source": []
  }
 ],
 "metadata": {
  "kernelspec": {
   "display_name": "Python 3",
   "language": "python",
   "name": "python3"
  },
  "language_info": {
   "codemirror_mode": {
    "name": "ipython",
    "version": 3
   },
   "file_extension": ".py",
   "mimetype": "text/x-python",
   "name": "python",
   "nbconvert_exporter": "python",
   "pygments_lexer": "ipython3",
   "version": "3.5.2"
  }
 },
 "nbformat": 4,
 "nbformat_minor": 2
}
